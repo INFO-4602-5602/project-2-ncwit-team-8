{
 "cells": [
  {
   "cell_type": "code",
   "execution_count": 55,
   "metadata": {},
   "outputs": [],
   "source": [
    "import pandas as pd\n",
    "import numpy as np\n",
    "import bokeh\n",
    "from bokeh.core.properties import value\n",
    "from bokeh.io import show, output_file\n",
    "from bokeh.models import ColumnDataSource, HoverTool, FactorRange\n",
    "from bokeh.plotting import figure\n",
    "from bokeh.palettes import Spectral5\n",
    "from bokeh.sampledata.autompg import autompg_clean as df\n",
    "from bokeh.transform import dodge\n",
    "import matplotlib.pylab as plt\n",
    "%matplotlib inline"
   ]
  },
  {
   "cell_type": "code",
   "execution_count": 54,
   "metadata": {},
   "outputs": [],
   "source": [
    "df = pd.read_csv(\"MvsFbyYearClean.csv\")\n",
    "dfClean = df.fillna(0)"
   ]
  },
  {
   "source": [
    "output_file=(\"female_male_by_class.html\")\n",
    "\n",
    "years = ['Freshman', 'Sophomore', 'Junior', 'Senior', '5th Year']\n",
    "genders = ['Female', 'Male']\n",
    "\n",
    "data = {'years' : years, \n",
    "        'Female' : [7394, 8902, 10806, 14660, 1375], \n",
    "        'Male' : [46544, 51342, 61412, 84726, 8289]}\n",
    "palette = ['#440154','#29788E']\n",
    "\n",
    "#x = [(year, gender) for year in years for gender in genders]\n",
    "#counts = sum(zip(data['Female'], data['Male']), ())\n",
    "source = ColumnDataSource(data = data)\n",
    "\n",
    "p=figure(x_range=years, x_axis_label = \"Year in School\", y_axis_label=\"Total Enrolled\",y_range =(0,99999), plot_height = 350, title=\"Female vs Male Total Enrolled by Year in School\", toolbar_location = None, tools='')\n",
    "p.vbar(x=dodge('years', 0, range=p.x_range), top='Female', width = 0.2, source = source, color=\"#440154\", legend = value('Female'))\n",
    "p.vbar(x=dodge('years', 0.25, range=p.x_range), top='Male', width =0.2, source = source, color=\"#29788E\", legend = value('Male'))\n",
    "\n",
    "p.y_range.start = 0\n",
    "p.x_range.range_padding = 0.1\n",
    "p.xgrid.grid_line_color = None\n",
    "p.outline_line_color = None\n",
    "p.legend.location = \"top_left\"\n",
    "p.legend.orientation = \"horizontal\"\n",
    "\n",
    "p.add_tools(HoverTool(tooltips=[(\"Female\", \"@Female\"), (\"Male\",\"@Male\")]))\n",
    "\n",
    "show(p)"
   ]
  }
 ],
 "metadata": {
  "kernelspec": {
   "display_name": "Python 3",
   "language": "python",
   "name": "python3"
  },
  "language_info": {
   "codemirror_mode": {
    "name": "ipython",
    "version": 3
   },
   "file_extension": ".py",
   "mimetype": "text/x-python",
   "name": "python",
   "nbconvert_exporter": "python",
   "pygments_lexer": "ipython3",
   "version": "3.6.3"
  }
 },
 "nbformat": 4,
 "nbformat_minor": 2
}
