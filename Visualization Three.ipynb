{
 "cells": [
  {
   "cell_type": "code",
   "execution_count": 55,
   "metadata": {},
   "outputs": [],
   "source": [
    "import pandas as pd\n",
    "import numpy as np\n",
    "import bokeh\n",
    "from bokeh.core.properties import value\n",
    "from bokeh.io import show, output_file\n",
    "from bokeh.models import ColumnDataSource, HoverTool, FactorRange\n",
    "from bokeh.plotting import figure\n",
    "from bokeh.palettes import Spectral5\n",
    "from bokeh.sampledata.autompg import autompg_clean as df\n",
    "from bokeh.transform import dodge\n",
    "import matplotlib.pylab as plt\n",
    "%matplotlib inline"
   ]
  },
  {
   "cell_type": "code",
   "execution_count": 54,
   "metadata": {},
   "outputs": [],
   "source": [
    "df = pd.read_csv(\"MvsFbyYearClean.csv\")\n",
    "dfClean = df.fillna(0)"
   ]
  },
  {
   "cell_type": "code",
   "execution_count": 60,
   "metadata": {},
   "outputs": [
    {
     "name": "stderr",
     "output_type": "stream",
     "text": [
      "E-1001 (BAD_COLUMN_NAME): Glyph refers to nonexistent column name: years [renderer: GlyphRenderer(id='0ba04134-b016-42f4-af5f-4feb278aa972', ...)]\n",
      "E-1001 (BAD_COLUMN_NAME): Glyph refers to nonexistent column name: years [renderer: GlyphRenderer(id='77d1e700-71d5-47f3-9e08-3c3adb346e55', ...)]\n",
      "E-1001 (BAD_COLUMN_NAME): Glyph refers to nonexistent column name: years [renderer: GlyphRenderer(id='0cc54eeb-5432-4024-9fb9-66cbc1067482', ...)]\n",
      "E-1001 (BAD_COLUMN_NAME): Glyph refers to nonexistent column name: years [renderer: GlyphRenderer(id='90f29310-d951-447c-a5f2-2d78b813dea7', ...)]\n",
      "E-1001 (BAD_COLUMN_NAME): Glyph refers to nonexistent column name: years [renderer: GlyphRenderer(id='079bb409-ad92-467d-8533-0e96060e42d8', ...)]\n",
      "E-1001 (BAD_COLUMN_NAME): Glyph refers to nonexistent column name: years [renderer: GlyphRenderer(id='827064b1-985f-44ee-8e46-eab905081308', ...)]\n",
      "E-1001 (BAD_COLUMN_NAME): Glyph refers to nonexistent column name: color, genders [renderer: GlyphRenderer(id='a549f575-db7e-4604-9615-183c0355e167', ...)]\n",
      "E-1001 (BAD_COLUMN_NAME): Glyph refers to nonexistent column name: female [renderer: GlyphRenderer(id='f840beb3-0b00-4598-a072-e65d8994d7ea', ...)]\n",
      "E-1001 (BAD_COLUMN_NAME): Glyph refers to nonexistent column name: male [renderer: GlyphRenderer(id='37c5b672-f8b5-40f0-a94e-4c18e4a7f217', ...)]\n",
      "E-1001 (BAD_COLUMN_NAME): Glyph refers to nonexistent column name: female [renderer: GlyphRenderer(id='8e5f1b04-f0d5-4575-b8da-744a059bc821', ...)]\n",
      "E-1001 (BAD_COLUMN_NAME): Glyph refers to nonexistent column name: male [renderer: GlyphRenderer(id='9ef56fd5-2270-4113-9e5c-607671b93813', ...)]\n"
     ]
    }
   ],
   "source": [
    "output_file=(\"female_male_by_class.html\")\n",
    "\n",
    "years = ['Freshman', 'Sophomore', 'Junior', 'Senior', '5th Year']\n",
    "genders = ['Female', 'Male']\n",
    "\n",
    "data = {'years' : years, \n",
    "        'Female' : [7394, 8902, 10806, 14660, 1375], \n",
    "        'Male' : [46544, 51342, 61412, 84726, 8289]}\n",
    "palette = ['#440154','#29788E']\n",
    "\n",
    "#x = [(year, gender) for year in years for gender in genders]\n",
    "#counts = sum(zip(data['Female'], data['Male']), ())\n",
    "source = ColumnDataSource(data = data)\n",
    "\n",
    "p=figure(x_range=years, x_axis_label = \"year in school\", y_axis_label=\"total enrolled\",y_range =(0,99999), plot_height = 350, title=\"Female vs Male Enrolled by Year in School\", toolbar_location = None, tools='')\n",
    "p.vbar(x=dodge('years', 0, range=p.x_range), top='Female', width = 0.2, source = source, color=\"#440154\", legend = value('Female'))\n",
    "p.vbar(x=dodge('years', 0.25, range=p.x_range), top='Male', width =0.2, source = source, color=\"#29788E\", legend = value('Male'))\n",
    "\n",
    "p.y_range.start = 0\n",
    "p.x_range.range_padding = 0.1\n",
    "p.xgrid.grid_line_color = None\n",
    "p.outline_line_color = None\n",
    "p.legend.location = \"top_left\"\n",
    "p.legend.orientation = \"horizontal\"\n",
    "\n",
    "p.add_tools(HoverTool(tooltips=[(\"Female\", \"@Female\"), (\"Male\",\"@Male\")]))\n",
    "\n",
    "show(p)"
   ]
  }
 ],
 "metadata": {
  "kernelspec": {
   "display_name": "Python 3",
   "language": "python",
   "name": "python3"
  },
  "language_info": {
   "codemirror_mode": {
    "name": "ipython",
    "version": 3
   },
   "file_extension": ".py",
   "mimetype": "text/x-python",
   "name": "python",
   "nbconvert_exporter": "python",
   "pygments_lexer": "ipython3",
   "version": "3.6.3"
  }
 },
 "nbformat": 4,
 "nbformat_minor": 2
}
